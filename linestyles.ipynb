{
 "cells": [
  {
   "cell_type": "code",
   "execution_count": 1,
   "metadata": {},
   "outputs": [],
   "source": [
    "%matplotlib inline"
   ]
  },
  {
   "cell_type": "markdown",
   "metadata": {},
   "source": [
    "\n",
    "# Linestyles\n",
    "\n",
    "\n",
    "Simple linestyles can be defined using the strings \"solid\", \"dotted\", \"dashed\"\n",
    "or \"dashdot\". More refined control can be achieved by providing a dash tuple\n",
    "``(offset, (on_off_seq))``. For example, ``(0, (3, 10, 1, 15))`` means\n",
    "(3pt line, 10pt space, 1pt line, 15pt space) with no offset. See also\n",
    "`.Line2D.set_linestyle`.\n",
    "\n",
    "*Note*: The dash style can also be configured via `.Line2D.set_dashes`\n",
    "as shown in :doc:`/gallery/lines_bars_and_markers/line_demo_dash_control`\n",
    "and passing a list of dash sequences using the keyword *dashes* to the\n",
    "cycler in :doc:`property_cycle </tutorials/intermediate/color_cycle>`.\n"
   ]
  },
  {
   "cell_type": "code",
   "execution_count": 10,
   "metadata": {},
   "outputs": [
    {
     "ename": "AttributeError",
     "evalue": "'Figure' object has no attribute 'GridSpec'",
     "output_type": "error",
     "traceback": [
      "\u001b[0;31m---------------------------------------------------------------------------\u001b[0m",
      "\u001b[0;31mAttributeError\u001b[0m                            Traceback (most recent call last)",
      "\u001b[0;32m<ipython-input-10-d6cc2e891a12>\u001b[0m in \u001b[0;36m<module>\u001b[0;34m\u001b[0m\n\u001b[1;32m     51\u001b[0m \u001b[0;34m\u001b[0m\u001b[0m\n\u001b[1;32m     52\u001b[0m \u001b[0;34m\u001b[0m\u001b[0m\n\u001b[0;32m---> 53\u001b[0;31m ax0, ax1 = (plt.figure(figsize=(10, 8)).GridSpec(2, 1, height_ratios=[1, 3])\n\u001b[0m\u001b[1;32m     54\u001b[0m             .subplots())\n\u001b[1;32m     55\u001b[0m \u001b[0;34m\u001b[0m\u001b[0m\n",
      "\u001b[0;31mAttributeError\u001b[0m: 'Figure' object has no attribute 'GridSpec'"
     ]
    },
    {
     "data": {
      "text/plain": [
       "<Figure size 720x576 with 0 Axes>"
      ]
     },
     "metadata": {},
     "output_type": "display_data"
    }
   ],
   "source": [
    "import numpy as np\n",
    "import matplotlib.pyplot as plt\n",
    "from matplotlib.gridspec import GridSpec\n",
    "\n",
    "linestyle_str = [\n",
    "     ('solid', 'solid'),      # Same as (0, ()) or '-'\n",
    "     ('dotted', 'dotted'),    # Same as (0, (1, 1)) or '.'\n",
    "     ('dashed', 'dashed'),    # Same as '--'\n",
    "     ('dashdot', 'dashdot')]  # Same as '-.'\n",
    "\n",
    "linestyle_tuple = [\n",
    "     ('loosely dotted',        (0, (1, 10))),\n",
    "     ('dotted',                (0, (1, 1))),\n",
    "     ('densely dotted',        (0, (1, 1))),\n",
    "\n",
    "     ('loosely dashed',        (0, (5, 10))),\n",
    "     ('dashed',                (0, (5, 5))),\n",
    "     ('densely dashed',        (0, (5, 1))),\n",
    "\n",
    "     ('loosely dashdotted',    (0, (3, 10, 1, 10))),\n",
    "     ('dashdotted',            (0, (3, 5, 1, 5))),\n",
    "     ('densely dashdotted',    (0, (3, 1, 1, 1))),\n",
    "\n",
    "     ('dashdotdotted',         (0, (3, 5, 1, 5, 1, 5))),\n",
    "     ('loosely dashdotdotted', (0, (3, 10, 1, 10, 1, 10))),\n",
    "     ('densely dashdotdotted', (0, (3, 1, 1, 1, 1, 1)))]\n",
    "\n",
    "\n",
    "def plot_linestyles(ax, linestyles, title):\n",
    "    X, Y = np.linspace(0, 100, 10), np.zeros(10)\n",
    "    yticklabels = []\n",
    "\n",
    "    for i, (name, linestyle) in enumerate(linestyles):\n",
    "        ax.plot(X, Y+i, linestyle=linestyle, linewidth=1.5, color='black')\n",
    "        yticklabels.append(name)\n",
    "\n",
    "    ax.set_title(title)\n",
    "    ax.set(ylim=(-0.5, len(linestyles)-0.5),\n",
    "           yticks=np.arange(len(linestyles)),\n",
    "           yticklabels=yticklabels)\n",
    "    ax.tick_params(left=False, bottom=False, labelbottom=False)\n",
    "    ax.spines[:].set_visible(False)\n",
    "\n",
    "    # For each line style, add a text annotation with a small offset from\n",
    "    # the reference point (0 in Axes coords, y tick value in Data coords).\n",
    "    for i, (name, linestyle) in enumerate(linestyles):\n",
    "        ax.annotate(repr(linestyle),\n",
    "                    xy=(0.0, i), xycoords=ax.get_yaxis_transform(),\n",
    "                    xytext=(-6, -12), textcoords='offset points',\n",
    "                    color=\"blue\", fontsize=8, ha=\"right\", family=\"monospace\")\n",
    "\n",
    "\n",
    "ax0, ax1 = (plt.figure(figsize=(10, 8)).GridSpec(2, 1, height_ratios=[1, 3])\n",
    "            .subplots())\n",
    "\n",
    "plot_linestyles(ax0, linestyle_str[::-1], title='Named linestyles')\n",
    "plot_linestyles(ax1, linestyle_tuple[::-1], title='Parametrized linestyles')\n",
    "\n",
    "plt.tight_layout()\n",
    "plt.show()"
   ]
  },
  {
   "cell_type": "code",
   "execution_count": null,
   "metadata": {},
   "outputs": [],
   "source": []
  }
 ],
 "metadata": {
  "kernelspec": {
   "display_name": "Python 3",
   "language": "python",
   "name": "python3"
  },
  "language_info": {
   "codemirror_mode": {
    "name": "ipython",
    "version": 3
   },
   "file_extension": ".py",
   "mimetype": "text/x-python",
   "name": "python",
   "nbconvert_exporter": "python",
   "pygments_lexer": "ipython3",
   "version": "3.8.3"
  }
 },
 "nbformat": 4,
 "nbformat_minor": 1
}
